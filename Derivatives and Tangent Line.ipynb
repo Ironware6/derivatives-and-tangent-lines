{
 "cells": [
  {
   "cell_type": "markdown",
   "metadata": {},
   "source": [
    "## Derivatives and tangent lines\n",
    "\n",
    "The derivative is defined for a funtion x as follows\n",
    "$$ f'(x) = \\lim_{h\\to0}\\frac{f(x + h)-f(x)}{h}$$\n",
    "\n",
    "In your lecture, you have worked with taking the derivative using rules such as the power rule, product rule, quotient rule and chain rule. One of the wonderful things about python is we don't need to worry about any of those, sympy has a derivative function that will take care of that for us."
   ]
  },
  {
   "cell_type": "code",
   "execution_count": 53,
   "metadata": {},
   "outputs": [],
   "source": [
    "# lets import our packages\n",
    "import numpy as np\n",
    "import matplotlib.pyplot as plt\n",
    "from sympy import *\n",
    "%matplotlib inline\n",
    "x, y, z = symbols('x y z')\n",
    "init_printing(use_unicode=True)"
   ]
  },
  {
   "cell_type": "markdown",
   "metadata": {},
   "source": [
    "The fuction that we are going to use is the diff() function.\n",
    "\n",
    "This function has 2 required parameters (Things that go inside the parenthesis)\n",
    "\n",
    "First we need a function $f(x)$\n",
    "Second we need our independant variable x\n",
    "\n",
    "(If we want to take higher order derivatives such as a second derivative we can include a third parameter saying so)"
   ]
  },
  {
   "cell_type": "code",
   "execution_count": 2,
   "metadata": {},
   "outputs": [
    {
     "data": {
      "image/png": "[encoded data removed]",
      "text/latex": [
       "$$2 x + 3$$"
      ],
      "text/plain": [
       "2⋅x + 3"
      ]
     },
     "execution_count": 2,
     "metadata": {},
     "output_type": "execute_result"
    }
   ],
   "source": [
    "# Here is an example\n",
    "func = x ** 2 + 3 * x - 4\n",
    "diff(func, x)"
   ]
  },
  {
   "cell_type": "code",
   "execution_count": null,
   "metadata": {},
   "outputs": [],
   "source": [
    "# A second derivative\n",
    "func2 = sin(x)\n",
    "diff(func2, x, 2)"
   ]
  },
  {
   "cell_type": "code",
   "execution_count": 3,
   "metadata": {},
   "outputs": [
    {
     "data": {
      "image/png": "[encoded data removed]",
      "text/latex": [
       "$$\\frac{\\left(4 x^{3} + x^{2} e^{x} - 2 x - 3 e^{x} - 2\\right) e^{x}}{\\left(x - 1\\right)^{2} \\left(x + 1\\right)^{2} \\left(e^{x} + 1\\right)} + \\frac{\\left(x^{4} + x^{2} e^{x} - x^{2} - 2 x e^{x} - 2 x - e^{x}\\right) e^{x}}{\\left(x - 1\\right)^{2} \\left(x + 1\\right)^{2} \\left(e^{x} + 1\\right)} - \\frac{\\left(x^{4} + x^{2} e^{x} - x^{2} - 2 x e^{x} - 2 x - e^{x}\\right) e^{2 x}}{\\left(x - 1\\right)^{2} \\left(x + 1\\right)^{2} \\left(e^{x} + 1\\right)^{2}} - \\frac{2 \\left(x^{4} + x^{2} e^{x} - x^{2} - 2 x e^{x} - 2 x - e^{x}\\right) e^{x}}{\\left(x - 1\\right)^{2} \\left(x + 1\\right)^{3} \\left(e^{x} + 1\\right)} - \\frac{2 \\left(x^{4} + x^{2} e^{x} - x^{2} - 2 x e^{x} - 2 x - e^{x}\\right) e^{x}}{\\left(x - 1\\right)^{3} \\left(x + 1\\right)^{2} \\left(e^{x} + 1\\right)}$$"
      ],
      "text/plain": [
       "⎛   3    2  x            x    ⎞  x   ⎛ 4    2  x    2        x          x⎞  x \n",
       "⎝4⋅x  + x ⋅ℯ  - 2⋅x - 3⋅ℯ  - 2⎠⋅ℯ    ⎝x  + x ⋅ℯ  - x  - 2⋅x⋅ℯ  - 2⋅x - ℯ ⎠⋅ℯ  \n",
       "────────────────────────────────── + ──────────────────────────────────────── \n",
       "           2        2 ⎛ x    ⎞                     2        2 ⎛ x    ⎞        \n",
       "    (x - 1) ⋅(x + 1) ⋅⎝ℯ  + 1⎠              (x - 1) ⋅(x + 1) ⋅⎝ℯ  + 1⎠        \n",
       "                                                                              \n",
       "\n",
       "  ⎛ 4    2  x    2        x          x⎞  2⋅x     ⎛ 4    2  x    2        x    \n",
       "  ⎝x  + x ⋅ℯ  - x  - 2⋅x⋅ℯ  - 2⋅x - ℯ ⎠⋅ℯ      2⋅⎝x  + x ⋅ℯ  - x  - 2⋅x⋅ℯ  - 2\n",
       "- ────────────────────────────────────────── - ───────────────────────────────\n",
       "                                   2                          2        3 ⎛ x  \n",
       "                2        2 ⎛ x    ⎞                    (x - 1) ⋅(x + 1) ⋅⎝ℯ  +\n",
       "         (x - 1) ⋅(x + 1) ⋅⎝ℯ  + 1⎠                                           \n",
       "\n",
       "      x⎞  x     ⎛ 4    2  x    2        x          x⎞  x\n",
       "⋅x - ℯ ⎠⋅ℯ    2⋅⎝x  + x ⋅ℯ  - x  - 2⋅x⋅ℯ  - 2⋅x - ℯ ⎠⋅ℯ \n",
       "─────────── - ──────────────────────────────────────────\n",
       "  ⎞                          3        2 ⎛ x    ⎞        \n",
       " 1⎠                   (x - 1) ⋅(x + 1) ⋅⎝ℯ  + 1⎠        \n",
       "                                                        "
      ]
     },
     "execution_count": 3,
     "metadata": {},
     "output_type": "execute_result"
    }
   ],
   "source": [
    "# And here is a derivative of a very nasty function\n",
    "nasty = (x**4 + x**2*exp(x) - x**2 - 2*x*exp(x) - 2*x - \n",
    "         exp(x))*exp(x)/((x - 1)**2*(x + 1)**2*(exp(x) + 1))\n",
    "diff(nasty, x)"
   ]
  },
  {
   "cell_type": "code",
   "execution_count": 4,
   "metadata": {},
   "outputs": [
    {
     "data": {
      "image/png": "[encoded data removed]",
      "text/latex": [
       "$$\\frac{\\left(x^{4} + x^{2} e^{x} - x^{2} - 2 x e^{x} - 2 x - e^{x}\\right) e^{x}}{\\left(x - 1\\right)^{2} \\left(x + 1\\right)^{2} \\left(e^{x} + 1\\right)}$$"
      ],
      "text/plain": [
       "⎛ 4    2  x    2        x          x⎞  x\n",
       "⎝x  + x ⋅ℯ  - x  - 2⋅x⋅ℯ  - 2⋅x - ℯ ⎠⋅ℯ \n",
       "────────────────────────────────────────\n",
       "              2        2 ⎛ x    ⎞       \n",
       "       (x - 1) ⋅(x + 1) ⋅⎝ℯ  + 1⎠       "
      ]
     },
     "execution_count": 4,
     "metadata": {},
     "output_type": "execute_result"
    }
   ],
   "source": [
    "# For reference here is that nasty function\n",
    "nasty"
   ]
  },
  {
   "cell_type": "markdown",
   "metadata": {},
   "source": [
    "Try taking the derivative of $$f(x) = \\frac{sin(2x) + cos(x^2)}{x^3}$$"
   ]
  },
  {
   "cell_type": "code",
   "execution_count": 6,
   "metadata": {},
   "outputs": [
    {
     "data": {
      "image/png": "[encoded data removed]",
      "text/latex": [
       "$$\\frac{1}{x^{3}} \\left(- 2 x \\sin{\\left (x^{2} \\right )} + 2 \\cos{\\left (2 x \\right )}\\right) - \\frac{3}{x^{4}} \\left(\\sin{\\left (2 x \\right )} + \\cos{\\left (x^{2} \\right )}\\right)$$"
      ],
      "text/plain": [
       "         ⎛ 2⎞                  ⎛              ⎛ 2⎞⎞\n",
       "- 2⋅x⋅sin⎝x ⎠ + 2⋅cos(2⋅x)   3⋅⎝sin(2⋅x) + cos⎝x ⎠⎠\n",
       "────────────────────────── - ──────────────────────\n",
       "             3                          4          \n",
       "            x                          x           "
      ]
     },
     "execution_count": 6,
     "metadata": {},
     "output_type": "execute_result"
    }
   ],
   "source": [
    "john= (sin(2*x) + cos(x**2))/x**3\n",
    "diff (john, x)"
   ]
  },
  {
   "cell_type": "markdown",
   "metadata": {},
   "source": [
    "A lot of times, we will need to use a derivative at a later point, so we need to store the value like below"
   ]
  },
  {
   "cell_type": "code",
   "execution_count": 7,
   "metadata": {},
   "outputs": [
    {
     "data": {
      "image/png": "[encoded data removed]",
      "text/latex": [
       "$$2 x - 5$$"
      ],
      "text/plain": [
       "2⋅x - 5"
      ]
     },
     "execution_count": 7,
     "metadata": {},
     "output_type": "execute_result"
    }
   ],
   "source": [
    "func3 = x ** 2 - 5 * x + 4\n",
    "deriv = diff(func3, x) # Store the value\n",
    "deriv # lets see what the value is"
   ]
  },
  {
   "cell_type": "markdown",
   "metadata": {},
   "source": [
    "Now we want to evaluate what the value of the derivative is at a point. We will use a function called .subs() to evaluate the values.\n",
    "\n",
    "The syntax is .subs(x,n) where n us the value we want to use"
   ]
  },
  {
   "cell_type": "code",
   "execution_count": 8,
   "metadata": {},
   "outputs": [
    {
     "data": {
      "image/png": "[encoded data removed]",
      "text/latex": [
       "$$-1$$"
      ],
      "text/plain": [
       "-1"
      ]
     },
     "execution_count": 8,
     "metadata": {},
     "output_type": "execute_result"
    }
   ],
   "source": [
    "deriv.subs(x,2)"
   ]
  },
  {
   "cell_type": "markdown",
   "metadata": {},
   "source": [
    "### Assignment\n",
    "\n",
    "For each of the following functions, graph the function and the line tangent to the function at the given point\n",
    "\n",
    "$$ f(x) = x^2 + 4x + 3$$$$  x=2$$"
   ]
  },
  {
   "cell_type": "code",
   "execution_count": 10,
   "metadata": {},
   "outputs": [
    {
     "name": "stdout",
     "output_type": "stream",
     "text": [
      "The slope of the tangent line is 8\n",
      "The y intercept of the tangent line is -1\n",
      "The equation og the tangent line is:\n",
      "y= 8 x+ -1\n"
     ]
    }
   ],
   "source": [
    "funct1 = x**2 + 4*x + 3\n",
    "deriv1 = diff(funct1, x)\n",
    "x1=2\n",
    "y1 = funct1.subs(x,2)\n",
    "m1 = deriv1.subs(x,2)\n",
    "b1 = y1 - m1*x1\n",
    "print(\"The slope of the tangent line is\" , m1)\n",
    "print(\"The y intercept of the tangent line is\" , b1)\n",
    "print(\"The equation og the tangent line is:\")\n",
    "print(\"y=\",m1 , \"x+\", b1)"
   ]
  },
  {
   "cell_type": "markdown",
   "metadata": {},
   "source": [
    "$$ f(x) = x^x$$ $$x = 1$$"
   ]
  },
  {
   "cell_type": "code",
   "execution_count": 57,
   "metadata": {},
   "outputs": [
    {
     "name": "stdout",
     "output_type": "stream",
     "text": [
      "The slope of the tangent line is 1\n",
      "The y intercept of the tangent line is 0\n",
      "The equation og the tangent line is:\n",
      "y= 1 x+ 0\n"
     ]
    }
   ],
   "source": [
    "funct2 = x**x\n",
    "deriv = diff(funct2 , x)\n",
    "x2=1\n",
    "y2 = funct2.subs(x,1)\n",
    "m2=deriv.subs(x,1)\n",
    "b2 = y2 - m2*x2\n",
    "print(\"The slope of the tangent line is\" , m2)\n",
    "print(\"The y intercept of the tangent line is\" , b2)\n",
    "print(\"The equation og the tangent line is:\")\n",
    "print(\"y=\",m2 , \"x+\", b2)\n",
    "\n",
    "#################"
   ]
  },
  {
   "cell_type": "code",
   "execution_count": 50,
   "metadata": {},
   "outputs": [
    {
     "data": {
      "image/png": "[encoded data removed]",
      "text/latex": [
       "$$x^{x} \\left(\\log{\\left (x \\right )} + 1\\right)$$"
      ],
      "text/plain": [
       " x             \n",
       "x ⋅(log(x) + 1)"
      ]
     },
     "execution_count": 50,
     "metadata": {},
     "output_type": "execute_result"
    }
   ],
   "source": [
    "deriv"
   ]
  },
  {
   "cell_type": "code",
   "execution_count": 58,
   "metadata": {
    "scrolled": true
   },
   "outputs": [
    {
     "data": {
      "text/plain": [
       "<function matplotlib.pyplot.show(*args, **kw)>"
      ]
     },
     "execution_count": 58,
     "metadata": {},
     "output_type": "execute_result"
    },
    {
     "data": {
      "image/png": "[encoded data removed]",
      "text/plain": [
       "<Figure size 432x288 with 1 Axes>"
      ]
     },
     "metadata": {},
     "output_type": "display_data"
    }
   ],
   "source": [
    "xs2 = np.linspace(0,2,100)\n",
    "ys2 =xs2**xs2\n",
    "tang2 = m2*xs2 + b2\n",
    "plt.plot(xs2 ,ys2)\n",
    "plt.plot(xs2, tang2)\n",
    "plt.show"
   ]
  },
  {
   "cell_type": "markdown",
   "metadata": {},
   "source": [
    "$$ f(x) = 2xe^{-x}cos(x)$$$$x=-1$$"
   ]
  },
  {
   "cell_type": "code",
   "execution_count": 17,
   "metadata": {},
   "outputs": [],
   "source": [
    "e = np.e"
   ]
  },
  {
   "cell_type": "code",
   "execution_count": null,
   "metadata": {},
   "outputs": [],
   "source": []
  },
  {
   "cell_type": "code",
   "execution_count": 59,
   "metadata": {},
   "outputs": [
    {
     "name": "stdout",
     "output_type": "stream",
     "text": [
      "The slope of the tangent line is -5.43656365691809*sin(1) + 10.8731273138362*cos(1)\n",
      "The y intercept of the tangent line is -5.43656365691809*sin(1) + 5.43656365691809*cos(1)\n",
      "The equation og the tangent line is:\n",
      "y= -5.43656365691809*sin(1) + 10.8731273138362*cos(1) x+ -5.43656365691809*sin(1) + 5.43656365691809*cos(1)\n"
     ]
    }
   ],
   "source": [
    "funct3 = 2*x*(e**-x)*cos(x)\n",
    "deriv = diff(funct3 , x)\n",
    "x3= -1\n",
    "y3 = funct3.subs(x,-1)\n",
    "m3=deriv.subs(x,-1)\n",
    "b3 = y3 - m3*x3\n",
    "print(\"The slope of the tangent line is\" , m3)\n",
    "print(\"The y intercept of the tangent line is\" , b3)\n",
    "print(\"The equation og the tangent line is:\")\n",
    "print(\"y=\",m3 , \"x+\", b3)\n",
    "\n",
    "\n"
   ]
  },
  {
   "cell_type": "code",
   "execution_count": 67,
   "metadata": {
    "scrolled": true
   },
   "outputs": [
    {
     "data": {
      "text/plain": [
       "<function matplotlib.pyplot.show(*args, **kw)>"
      ]
     },
     "execution_count": 67,
     "metadata": {},
     "output_type": "execute_result"
    },
    {
     "data": {
      "image/png": "[encoded data removed]",
      "text/plain": [
       "<Figure size 432x288 with 1 Axes>"
      ]
     },
     "metadata": {},
     "output_type": "display_data"
    }
   ],
   "source": [
    "xs3 = np.linspace(-1,2,100)\n",
    "ys3 =2*xs3*(e**-xs3)*np.cos(xs3)\n",
    "tang3 = m3*xs3+ b3\n",
    "plt.plot(xs3 ,ys3)\n",
    "plt.plot(xs3, tang3)\n",
    "plt.show"
   ]
  },
  {
   "cell_type": "code",
   "execution_count": null,
   "metadata": {},
   "outputs": [],
   "source": []
  },
  {
   "cell_type": "markdown",
   "metadata": {},
   "source": [
    "$$ f(x) = -x^2 + 6$$$$x=0$$"
   ]
  },
  {
   "cell_type": "code",
   "execution_count": 73,
   "metadata": {},
   "outputs": [
    {
     "name": "stdout",
     "output_type": "stream",
     "text": [
      "The slope of the tangent line is 0\n",
      "The y intercept of the tangent line is 6\n",
      "The equation og the tangent line is:\n",
      "y= 0 x+ 6\n"
     ]
    }
   ],
   "source": [
    "funct4 = -x**2 + 6\n",
    "deriv = diff(funct4 , x)\n",
    "x4= 0\n",
    "y4 = funct4.subs(x,0)\n",
    "m4=deriv.subs(x,0)\n",
    "b4 = y4 - m4*x4\n",
    "print(\"The slope of the tangent line is\" , m4)\n",
    "print(\"The y intercept of the tangent line is\" , b4)\n",
    "print(\"The equation og the tangent line is:\")\n",
    "print(\"y=\",m4 , \"x+\", b4)\n",
    "\n"
   ]
  },
  {
   "cell_type": "code",
   "execution_count": 74,
   "metadata": {},
   "outputs": [
    {
     "data": {
      "text/plain": [
       "<function matplotlib.pyplot.show(*args, **kw)>"
      ]
     },
     "execution_count": 74,
     "metadata": {},
     "output_type": "execute_result"
    },
    {
     "data": {
      "image/png": "[encoded data removed]",
      "text/plain": [
       "<Figure size 432x288 with 1 Axes>"
      ]
     },
     "metadata": {},
     "output_type": "display_data"
    }
   ],
   "source": [
    "xs4 = np.linspace(-1,2,100)\n",
    "ys4 =-xs4**2 + 6\n",
    "tang4 = m4*xs4 + b4\n",
    "plt.plot(xs4 ,ys4)\n",
    "plt.plot(xs4, tang4)\n",
    "plt.show"
   ]
  },
  {
   "cell_type": "code",
   "execution_count": null,
   "metadata": {},
   "outputs": [],
   "source": []
  }
 ],
 "metadata": {
  "kernelspec": {
   "display_name": "Python 3",
   "language": "python",
   "name": "python3"
  },
  "language_info": {
   "codemirror_mode": {
    "name": "ipython",
    "version": 3
   },
   "file_extension": ".py",
   "mimetype": "text/x-python",
   "name": "python",
   "nbconvert_exporter": "python",
   "pygments_lexer": "ipython3",
   "version": "3.6.5"
  }
 },
 "nbformat": 4,
 "nbformat_minor": 2
}
